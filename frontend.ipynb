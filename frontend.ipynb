{
 "cells": [
  {
   "cell_type": "markdown",
   "id": "f966ab87",
   "metadata": {},
   "source": [
    "# Streamlit APP"
   ]
  },
  {
   "cell_type": "code",
   "execution_count": 2,
   "id": "e663df2b",
   "metadata": {},
   "outputs": [
    {
     "name": "stdout",
     "output_type": "stream",
     "text": [
      "Overwriting app.py\n"
     ]
    }
   ],
   "source": [
    "%%writefile app.py\n",
    "\n",
    "import streamlit as st\n",
    "import pandas as pd\n",
    "from PIL import Image \n",
    "  \n",
    "st.set_page_config(page_title = 'Money Fighter', page_icon = ':large_yellow_square:') \n",
    "\n",
    "\n",
    "st.title('Money Fighter')\n",
    "menu = ['Home', 'Stats', 'About']\n",
    "\n",
    "choice = st.sidebar.selectbox('Menu', menu)\n",
    "df = pd.read_csv('df_del_nan_v3.csv')\n",
    "\n",
    "image = Image.open('./pak.jpg') \n",
    "\n",
    "if choice == 'Home':\n",
    "    st.subheader('Home')\n",
    "    st.table(df.head())\n",
    "elif choice == 'Stats':\n",
    "    st.subheader('Stats')\n",
    "else:\n",
    "    st.subheader('About')\n",
    "    descripcion = ('Money Fighter  is a website that predicts the result of the upcoming MMA fights.\\\n",
    "         We take into account thousands of past bouts  and use a complex model to predict the \\\n",
    "         outcome of each fight.\\\n",
    "         Our predictions give you an edge over the bookmakers and other gamblers, \\\n",
    "         as well as insightful data about fighters’ tendencies in different situations. \\\n",
    "         Our predictions are 100% free and we do not accept any payments from the fighters, \\\n",
    "         their managers or promoters. Our goal is to help MMA fans understand the sport better\\\n",
    "         by providing them with valuable information about the upcoming fights.')\n",
    "   \n",
    "    st.image(image = image, width=200)\n",
    "    st.markdown(f'<div style=\"text-align: justify;\">{descripcion}</div>', unsafe_allow_html=True) "
   ]
  },
  {
   "cell_type": "code",
   "execution_count": null,
   "id": "806fd5cc",
   "metadata": {},
   "outputs": [],
   "source": []
  }
 ],
 "metadata": {
  "kernelspec": {
   "display_name": "Python 3 (ipykernel)",
   "language": "python",
   "name": "python3"
  },
  "language_info": {
   "codemirror_mode": {
    "name": "ipython",
    "version": 3
   },
   "file_extension": ".py",
   "mimetype": "text/x-python",
   "name": "python",
   "nbconvert_exporter": "python",
   "pygments_lexer": "ipython3",
   "version": "3.8.11"
  }
 },
 "nbformat": 4,
 "nbformat_minor": 5
}
